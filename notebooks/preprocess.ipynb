{
 "cells": [
  {
   "cell_type": "code",
   "execution_count": 83,
   "id": "initial_id",
   "metadata": {
    "ExecuteTime": {
     "end_time": "2024-04-21T19:23:44.226529Z",
     "start_time": "2024-04-21T19:23:43.620380Z"
    },
    "collapsed": true
   },
   "outputs": [],
   "source": [
    "import os\n",
    "\n",
    "import geopandas as gpd\n",
    "\n",
    "import json\n",
    "from shapely.geometry import shape, Point\n",
    "\n",
    "import pandas as pd\n",
    "from math import cos, asin, sqrt\n",
    "import matplotlib.pyplot as plt\n",
    "import random\n",
    "import math\n",
    "import sys\n",
    "import copy\n",
    "\n",
    "import math \n",
    "\n"
   ]
  },
  {
   "cell_type": "code",
   "execution_count": 84,
   "id": "8b4e46d60bee2dcc",
   "metadata": {
    "ExecuteTime": {
     "end_time": "2024-04-21T19:21:16.922667Z",
     "start_time": "2024-04-21T19:21:12.402214Z"
    },
    "collapsed": false
   },
   "outputs": [
    {
     "data": {
      "text/plain": [
       "7060948"
      ]
     },
     "execution_count": 84,
     "metadata": {},
     "output_type": "execute_result"
    }
   ],
   "source": [
    "# loads the info retrieved from UBER movement API\n",
    "\n",
    "# sourceid : represents the origin zat\n",
    "# dstid : represents the destination zat\n",
    "# hod : hour of the day\n",
    "# mean_travel_time : mean travel time in seconds\n",
    "# standard_deviation_travel_time : standard deviation of travel time in seconds\n",
    "# geometric_mean_travel_time : geometric mean travel time in seconds\n",
    "# geometric_standard_deviation_travel_time : geometric standard deviation of travel time in seconds\n",
    "\n",
    "datos=pd.DataFrame(pd.read_csv(\"../data/preprocess/inputs/bogota-cadastral-2019-3-OnlyWeekdays-HourlyAggregate.csv\"))\n",
    "datos.head()\n",
    "len(datos)"
   ]
  },
  {
   "cell_type": "markdown",
   "id": "debcdb0ece68e48d",
   "metadata": {
    "collapsed": false
   },
   "source": [
    "# loads the maps of the city"
   ]
  },
  {
   "cell_type": "code",
   "execution_count": 91,
   "id": "24fbb156dba62818",
   "metadata": {
    "ExecuteTime": {
     "end_time": "2024-04-21T19:21:19.170059Z",
     "start_time": "2024-04-21T19:21:16.920065Z"
    },
    "collapsed": false
   },
   "outputs": [],
   "source": [
    "data=gpd.read_file('../data/preprocess/inputs/bogota_geo.json')\n",
    "    \n",
    "with open('../data/preprocess/inputs/limites_geojson.json') as f:\n",
    "\tdata_lims = json.load(f)   \n",
    "\n",
    "# EXCLUDES THE SCATTERED AND RURAL ZONES\n",
    "data=data[data.scatipo.eq(0)]\n",
    "\n",
    "# computes a new column with the representative point of each zone\n",
    "data['representative_point']=data['geometry'].apply(lambda x: shape(x).representative_point().xy)\n",
    "\n",
    "data.dropna(subset=['representative_point'],inplace=True)\n"
   ]
  },
  {
   "cell_type": "markdown",
   "id": "1b443bba275cbf81",
   "metadata": {
    "collapsed": false
   },
   "source": [
    "# creates a single dataframe with the representative points of the zones and the uber data"
   ]
  },
  {
   "cell_type": "code",
   "execution_count": 86,
   "id": "67e21e9cb72bbc3f",
   "metadata": {
    "ExecuteTime": {
     "end_time": "2024-04-21T19:30:30.798863Z",
     "start_time": "2024-04-21T19:30:17.524503Z"
    },
    "collapsed": false
   },
   "outputs": [
    {
     "data": {
      "text/html": [
       "<div>\n",
       "<style scoped>\n",
       "    .dataframe tbody tr th:only-of-type {\n",
       "        vertical-align: middle;\n",
       "    }\n",
       "\n",
       "    .dataframe tbody tr th {\n",
       "        vertical-align: top;\n",
       "    }\n",
       "\n",
       "    .dataframe thead th {\n",
       "        text-align: right;\n",
       "    }\n",
       "</style>\n",
       "<table border=\"1\" class=\"dataframe\">\n",
       "  <thead>\n",
       "    <tr style=\"text-align: right;\">\n",
       "      <th></th>\n",
       "      <th>sourceid</th>\n",
       "      <th>dstid</th>\n",
       "      <th>hod</th>\n",
       "      <th>mean_travel_time</th>\n",
       "      <th>standard_deviation_travel_time</th>\n",
       "      <th>geometric_mean_travel_time</th>\n",
       "      <th>geometric_standard_deviation_travel_time</th>\n",
       "      <th>source_coordinates</th>\n",
       "      <th>dst_coordinates</th>\n",
       "    </tr>\n",
       "  </thead>\n",
       "  <tbody>\n",
       "    <tr>\n",
       "      <th>0</th>\n",
       "      <td>360</td>\n",
       "      <td>563</td>\n",
       "      <td>10</td>\n",
       "      <td>1282.33</td>\n",
       "      <td>315.56</td>\n",
       "      <td>1246.33</td>\n",
       "      <td>1.27</td>\n",
       "      <td>[-74.09962323366398, 4.6862625]</td>\n",
       "      <td>[-74.08758793333334, 4.7211485]</td>\n",
       "    </tr>\n",
       "    <tr>\n",
       "      <th>3</th>\n",
       "      <td>75</td>\n",
       "      <td>548</td>\n",
       "      <td>13</td>\n",
       "      <td>2043.50</td>\n",
       "      <td>377.27</td>\n",
       "      <td>2010.83</td>\n",
       "      <td>1.19</td>\n",
       "      <td>[-74.03343874582688, 4.6849430000000005]</td>\n",
       "      <td>[-74.21490355950878, 4.625836]</td>\n",
       "    </tr>\n",
       "    <tr>\n",
       "      <th>4</th>\n",
       "      <td>1152</td>\n",
       "      <td>1131</td>\n",
       "      <td>0</td>\n",
       "      <td>514.12</td>\n",
       "      <td>383.08</td>\n",
       "      <td>428.93</td>\n",
       "      <td>1.74</td>\n",
       "      <td>[-74.11164411332437, 4.677749]</td>\n",
       "      <td>[-74.18004646566523, 4.589392]</td>\n",
       "    </tr>\n",
       "    <tr>\n",
       "      <th>5</th>\n",
       "      <td>1151</td>\n",
       "      <td>1141</td>\n",
       "      <td>0</td>\n",
       "      <td>399.07</td>\n",
       "      <td>208.18</td>\n",
       "      <td>361.21</td>\n",
       "      <td>1.53</td>\n",
       "      <td>[-74.09159054158111, 4.707669]</td>\n",
       "      <td>[-74.21120185102613, 4.6119699999999995]</td>\n",
       "    </tr>\n",
       "    <tr>\n",
       "      <th>6</th>\n",
       "      <td>351</td>\n",
       "      <td>653</td>\n",
       "      <td>10</td>\n",
       "      <td>1763.42</td>\n",
       "      <td>396.84</td>\n",
       "      <td>1721.73</td>\n",
       "      <td>1.24</td>\n",
       "      <td>[-74.06838855415091, 4.692584]</td>\n",
       "      <td>[-74.0373346847826, 4.6808475000000005]</td>\n",
       "    </tr>\n",
       "  </tbody>\n",
       "</table>\n",
       "</div>"
      ],
      "text/plain": [
       "   sourceid  dstid  hod  mean_travel_time  standard_deviation_travel_time  \\\n",
       "0       360    563   10           1282.33                          315.56   \n",
       "3        75    548   13           2043.50                          377.27   \n",
       "4      1152   1131    0            514.12                          383.08   \n",
       "5      1151   1141    0            399.07                          208.18   \n",
       "6       351    653   10           1763.42                          396.84   \n",
       "\n",
       "   geometric_mean_travel_time  geometric_standard_deviation_travel_time  \\\n",
       "0                     1246.33                                      1.27   \n",
       "3                     2010.83                                      1.19   \n",
       "4                      428.93                                      1.74   \n",
       "5                      361.21                                      1.53   \n",
       "6                     1721.73                                      1.24   \n",
       "\n",
       "                         source_coordinates  \\\n",
       "0           [-74.09962323366398, 4.6862625]   \n",
       "3  [-74.03343874582688, 4.6849430000000005]   \n",
       "4            [-74.11164411332437, 4.677749]   \n",
       "5            [-74.09159054158111, 4.707669]   \n",
       "6            [-74.06838855415091, 4.692584]   \n",
       "\n",
       "                            dst_coordinates  \n",
       "0           [-74.08758793333334, 4.7211485]  \n",
       "3            [-74.21490355950878, 4.625836]  \n",
       "4            [-74.18004646566523, 4.589392]  \n",
       "5  [-74.21120185102613, 4.6119699999999995]  \n",
       "6   [-74.0373346847826, 4.6808475000000005]  "
      ]
     },
     "execution_count": 86,
     "metadata": {},
     "output_type": "execute_result"
    }
   ],
   "source": [
    "datos['source_coordinates']=datos['sourceid'].map(data.set_index('cartodb_id').to_dict()['representative_point'])\n",
    "datos['dst_coordinates']=datos['dstid'].map(data.set_index('cartodb_id').to_dict()['representative_point'])\n",
    "\n",
    "datos.dropna(subset=['source_coordinates','dst_coordinates'],inplace=True)\n",
    "\n",
    "datos['source_coordinates']=datos['source_coordinates'].apply(lambda x: [x[0][0],x[1][0]])\n",
    "datos['dst_coordinates']=datos['dst_coordinates'].apply(lambda x: [x[0][0],x[1][0]])\n",
    "datos.head()"
   ]
  },
  {
   "cell_type": "markdown",
   "id": "1ea2aa259ff33970",
   "metadata": {
    "collapsed": false
   },
   "source": [
    "# displays the are being considered"
   ]
  },
  {
   "cell_type": "code",
   "execution_count": 112,
   "id": "99f1ce2e",
   "metadata": {},
   "outputs": [],
   "source": [
    "data_gpd = gpd.GeoDataFrame(data)\n",
    "data_json = data_gpd._to_geo()\n",
    "# save the data to a json file\n",
    "# convert dict to json\n",
    "\n"
   ]
  },
  {
   "cell_type": "code",
   "execution_count": 107,
   "id": "b9f05e1367b8e16d",
   "metadata": {
    "ExecuteTime": {
     "end_time": "2024-04-21T19:26:00.477608Z",
     "start_time": "2024-04-21T19:25:57.727235Z"
    },
    "collapsed": false
   },
   "outputs": [
    {
     "data": {
      "text/plain": [
       "<folium.features.GeoJson at 0x23a138ad0>"
      ]
     },
     "execution_count": 107,
     "metadata": {},
     "output_type": "execute_result"
    }
   ],
   "source": [
    "# displays the data of the map in folium\n",
    "import folium\n",
    "from folium import plugins\n",
    "\n",
    "# Create a map centered in Bogota\n",
    "mapa = folium.Map(location=[4.6097100, -74.0817500], zoom_start=11)\n",
    "\n",
    "with open('../data/preprocess/inputs/bogota_geo.json') as f:\n",
    "\tdata_lims = json.load(f)\n",
    "\n",
    "# saves data to json file\n",
    "\n",
    "\n",
    "# place the data of the map in the folium map\n",
    "folium.GeoJson(data_lims).add_to(mapa)\n",
    "\n",
    "\n",
    "# Display the map\n",
    "#mapa\n",
    "\n"
   ]
  },
  {
   "cell_type": "markdown",
   "id": "6e43b5e59addfa61",
   "metadata": {
    "collapsed": false
   },
   "source": []
  },
  {
   "cell_type": "markdown",
   "id": "ab93f7954cdcffcd",
   "metadata": {
    "collapsed": false
   },
   "source": [
    "# Using OSRM we are going to compute the distances between the representative points of the zones"
   ]
  },
  {
   "cell_type": "markdown",
   "id": "6e6d0f249b013109",
   "metadata": {
    "collapsed": false
   },
   "source": [
    "# loads the distances between the zones\n",
    "\n",
    "# Creates the container for the distances using colombia-latest.osrm\n",
    "```sh \n",
    "\n",
    "docker run -t -v \"${PWD}:/data\" osrm/osrm-backend osrm-extract -p /opt/car.lua /data/colombia-latest.osm.pbf\n",
    "```\n",
    "\n",
    "### Partitions the container\n",
    "```sh \n",
    "docker run -t -v \"${PWD}:/data\" osrm/osrm-backend osrm-partition /data/colombia-latest.osrm\n",
    "docker run -t -v \"${PWD}:/data\" osrm/osrm-backend osrm-customize /data/colombia-latest.osrm\n",
    "```\n",
    "\n",
    "# serve in port 5001\n",
    "\n",
    "```sh \n",
    "docker run -t -i -p 5001:5000 -v \"${PWD}:/data\" osrm/osrm-backend osrm-routed --algorithm mld --max-table-size 100000000 /data/colombia-latest.osrm\n",
    "```\n"
   ]
  },
  {
   "cell_type": "code",
   "execution_count": 88,
   "id": "2d902d8e",
   "metadata": {},
   "outputs": [
    {
     "name": "stdout",
     "output_type": "stream",
     "text": [
      "[-75.518731, 5.057174]\n"
     ]
    }
   ],
   "source": [
    "# custom osrm client that receives multiple origins and destinations\n",
    "#!curl \"http://127.0.0.1:5001/table/v1/driving/53.27528,-2.1271;57.06322,-2.13991;57.1913,-2.12272\"\n",
    "\n",
    "import requests\n",
    "\n",
    "class OSRMClient:\n",
    "    def __init__(self, host):\n",
    "        self.host = host\n",
    "\n",
    "\n",
    "    \n",
    "    def get_distance_matrix(self, coordinates,source):\n",
    "        steps=min(100,math.ceil(len(coordinates)/10))\n",
    "        distances= {}\n",
    "    \n",
    "        \n",
    "        # ?annotations=distance,duratio\n",
    "        url = f\"http://{self.host}/table/v1/driving/{';'.join([f'{c[0]},{c[1]}' for c in coordinates])}?sources={source}&annotations=distance\"\n",
    "        #print(url)\n",
    "        response = requests.get(url)\n",
    "        return response.json()\n",
    "        \n",
    "\n",
    "\n",
    "    def get_nearest(self, coordinates):\n",
    "        url = f\"http://{self.host}/nearest/v1/driving/{coordinates[0]},{coordinates[1]}\"\n",
    "        response = requests.get(url)\n",
    "        coordinates = response.json()[\"waypoints\"][0][\"location\"]\n",
    "        return coordinates\n",
    "    \n",
    "    def get_distance(self, a, b):\n",
    "        url = f\"http://{self.host}/route/v1/driving/{a[0]},{a[1]};{b[0]},{b[1]}\"\n",
    "        response = requests.get(url)\n",
    "        return response.json()[\"routes\"][0][\"distance\"]\n",
    "    \n",
    "\n",
    "# computes the distance between two points using the OSRM client\n",
    "\n",
    "a=[-75.5184621,5.056982]\n",
    "client = OSRMClient(\"127.0.0.1:5001\")\n",
    "\n",
    "response = client.get_nearest(a)\n",
    "print(response)\n",
    "\n",
    "\n",
    "\n",
    "\n",
    "\n",
    "\n",
    "\n",
    "\n"
   ]
  },
  {
   "cell_type": "code",
   "execution_count": 89,
   "id": "c95c0ab2b34d9d1e",
   "metadata": {
    "ExecuteTime": {
     "end_time": "2024-04-21T19:47:55.153155Z",
     "start_time": "2024-04-21T19:47:55.063055Z"
    },
    "collapsed": false
   },
   "outputs": [],
   "source": [
    "import osrm\n",
    "\n",
    "client = osrm.Client(host='http://localhost:5001')\n",
    "\n",
    "def get_distance(origin,destination):\n",
    "    # receives the coordinates of the origin and destination\n",
    "    # returns the distance in km\n",
    "\n",
    "    response = client.route(\n",
    "        coordinates=[origin, destination],\n",
    "        overview=osrm.overview.full)\n",
    "    return response['routes'][0]['distance']/1000"
   ]
  },
  {
   "cell_type": "markdown",
   "id": "15393c29c0bd2556",
   "metadata": {
    "collapsed": false
   },
   "source": [
    "# computes the distances between the zones\n",
    "\n",
    "To make this process faster we are going to create a dictionary with the distances between the zones using source and destination as keys"
   ]
  },
  {
   "cell_type": "code",
   "execution_count": 90,
   "id": "39b7a379d97732c8",
   "metadata": {
    "ExecuteTime": {
     "end_time": "2024-04-21T19:45:43.157146Z",
     "start_time": "2024-04-21T19:44:48.713618Z"
    },
    "collapsed": false
   },
   "outputs": [
    {
     "data": {
      "text/plain": [
       "5075459"
      ]
     },
     "execution_count": 90,
     "metadata": {},
     "output_type": "execute_result"
    }
   ],
   "source": [
    "datos['source_dst']=datos.apply(lambda x: (x['sourceid'],x['dstid']),axis=1)\n",
    "\n",
    "client = OSRMClient(\"127.0.0.1:5001\")\n",
    "\n",
    "dict_coordinates=datos[['sourceid','source_coordinates']].drop_duplicates(subset=['sourceid']).set_index('sourceid').to_dict()['source_coordinates']\n",
    "\n",
    "dict_new_coordinates={}\n",
    "for key in dict_coordinates:\n",
    "    dict_new_coordinates[key]=client.get_nearest(dict_coordinates[key])\n",
    "\n",
    "datos[\"new_source_coordinates\"]=datos['sourceid'].map(dict_new_coordinates)\n",
    "datos[\"new_dst_coordinates\"]=datos['dstid'].map(dict_new_coordinates)\n",
    "datos.head()    \n",
    "\n",
    "zat_coordinates=datos[['sourceid','new_source_coordinates']].drop_duplicates(subset=['sourceid']).set_index('sourceid').to_dict()['new_source_coordinates']\n",
    "zat_coordinates.update(datos[['dstid','new_dst_coordinates']].drop_duplicates(subset=['dstid']).set_index('dstid').to_dict()['new_dst_coordinates'])\n",
    "len(datos)"
   ]
  },
  {
   "cell_type": "code",
   "execution_count": 61,
   "id": "85286e19",
   "metadata": {},
   "outputs": [],
   "source": [
    "import math\n",
    "# drop from the dictionary the zats that are not in the data or have nan values\n",
    "zat_coordinates = {k: v for k, v in zat_coordinates.items() if isinstance(v, list)}"
   ]
  },
  {
   "cell_type": "code",
   "execution_count": null,
   "id": "fddc68e0",
   "metadata": {},
   "outputs": [],
   "source": [
    "sorted_zat_coordinates = dict(sorted(zat_coordinates.items()))\n",
    "id_to_position = {i: k for i, k in enumerate(sorted_zat_coordinates.keys())}\n",
    "id_to_position"
   ]
  },
  {
   "cell_type": "code",
   "execution_count": 75,
   "id": "66a66c2f",
   "metadata": {},
   "outputs": [],
   "source": [
    "client = OSRMClient(\"127.0.0.1:5001\")\n",
    "test=[pos for pos in sorted_zat_coordinates.values()]\n",
    "\n",
    "distances={}\n",
    "for i in range(len(sorted_zat_coordinates)):\n",
    "    dst=client.get_distance_matrix(test,i)\n",
    "    for j in range(len(test)):\n",
    "        distances[(id_to_position[i],id_to_position[j])]=dst['distances'][0][j]"
   ]
  },
  {
   "cell_type": "code",
   "execution_count": 76,
   "id": "38bd33d36024a10b",
   "metadata": {
    "ExecuteTime": {
     "end_time": "2024-04-21T21:08:06.184382Z",
     "start_time": "2024-04-21T19:48:03.358967Z"
    },
    "collapsed": false
   },
   "outputs": [],
   "source": [
    "dict_distances=distances.copy()\n"
   ]
  },
  {
   "cell_type": "code",
   "execution_count": 77,
   "id": "ffe47001ad627707",
   "metadata": {
    "ExecuteTime": {
     "end_time": "2024-04-21T21:21:35.962707Z",
     "start_time": "2024-04-21T21:21:28.447685Z"
    },
    "collapsed": false
   },
   "outputs": [],
   "source": [
    "datos['distance']=datos['source_dst'].apply(lambda x: dict_distances.get(x,None))"
   ]
  },
  {
   "cell_type": "code",
   "execution_count": 78,
   "id": "b69ad1c4fa6a5b44",
   "metadata": {
    "ExecuteTime": {
     "end_time": "2024-04-21T21:23:06.059487Z",
     "start_time": "2024-04-21T21:22:53.106099Z"
    },
    "collapsed": false
   },
   "outputs": [],
   "source": [
    "datos.to_pickle('../data/preprocess/outputs/travel_time_with_distances.pkl')"
   ]
  },
  {
   "cell_type": "code",
   "execution_count": 81,
   "id": "38f85fa9abf7cf48",
   "metadata": {
    "ExecuteTime": {
     "end_time": "2024-04-21T21:23:11.663073Z",
     "start_time": "2024-04-21T21:23:10.946561Z"
    },
    "collapsed": false
   },
   "outputs": [
    {
     "data": {
      "text/plain": [
       "(5075459, 13)"
      ]
     },
     "execution_count": 81,
     "metadata": {},
     "output_type": "execute_result"
    }
   ],
   "source": [
    "datos.shape\n"
   ]
  },
  {
   "cell_type": "code",
   "execution_count": 80,
   "id": "68ff73a970704fcd",
   "metadata": {
    "ExecuteTime": {
     "end_time": "2024-04-21T21:39:15.473772Z",
     "start_time": "2024-04-21T21:39:14.857227Z"
    },
    "collapsed": false
   },
   "outputs": [
    {
     "data": {
      "text/html": [
       "<div>\n",
       "<style scoped>\n",
       "    .dataframe tbody tr th:only-of-type {\n",
       "        vertical-align: middle;\n",
       "    }\n",
       "\n",
       "    .dataframe tbody tr th {\n",
       "        vertical-align: top;\n",
       "    }\n",
       "\n",
       "    .dataframe thead th {\n",
       "        text-align: right;\n",
       "    }\n",
       "</style>\n",
       "<table border=\"1\" class=\"dataframe\">\n",
       "  <thead>\n",
       "    <tr style=\"text-align: right;\">\n",
       "      <th></th>\n",
       "      <th>dstid</th>\n",
       "    </tr>\n",
       "    <tr>\n",
       "      <th>sourceid</th>\n",
       "      <th></th>\n",
       "    </tr>\n",
       "  </thead>\n",
       "  <tbody>\n",
       "    <tr>\n",
       "      <th>60</th>\n",
       "      <td>15740</td>\n",
       "    </tr>\n",
       "    <tr>\n",
       "      <th>644</th>\n",
       "      <td>14926</td>\n",
       "    </tr>\n",
       "    <tr>\n",
       "      <th>871</th>\n",
       "      <td>14511</td>\n",
       "    </tr>\n",
       "    <tr>\n",
       "      <th>819</th>\n",
       "      <td>14455</td>\n",
       "    </tr>\n",
       "    <tr>\n",
       "      <th>327</th>\n",
       "      <td>14419</td>\n",
       "    </tr>\n",
       "    <tr>\n",
       "      <th>...</th>\n",
       "      <td>...</td>\n",
       "    </tr>\n",
       "    <tr>\n",
       "      <th>983</th>\n",
       "      <td>2</td>\n",
       "    </tr>\n",
       "    <tr>\n",
       "      <th>385</th>\n",
       "      <td>2</td>\n",
       "    </tr>\n",
       "    <tr>\n",
       "      <th>679</th>\n",
       "      <td>2</td>\n",
       "    </tr>\n",
       "    <tr>\n",
       "      <th>555</th>\n",
       "      <td>1</td>\n",
       "    </tr>\n",
       "    <tr>\n",
       "      <th>639</th>\n",
       "      <td>1</td>\n",
       "    </tr>\n",
       "  </tbody>\n",
       "</table>\n",
       "<p>876 rows × 1 columns</p>\n",
       "</div>"
      ],
      "text/plain": [
       "          dstid\n",
       "sourceid       \n",
       "60        15740\n",
       "644       14926\n",
       "871       14511\n",
       "819       14455\n",
       "327       14419\n",
       "...         ...\n",
       "983           2\n",
       "385           2\n",
       "679           2\n",
       "555           1\n",
       "639           1\n",
       "\n",
       "[876 rows x 1 columns]"
      ]
     },
     "execution_count": 80,
     "metadata": {},
     "output_type": "execute_result"
    }
   ],
   "source": [
    "datos.groupby('sourceid').agg({'dstid':'count'}).sort_values('dstid',ascending=False)"
   ]
  },
  {
   "cell_type": "code",
   "execution_count": null,
   "id": "b42570805da70180",
   "metadata": {
    "collapsed": false
   },
   "outputs": [],
   "source": []
  }
 ],
 "metadata": {
  "kernelspec": {
   "display_name": "Python 3",
   "language": "python",
   "name": "python3"
  },
  "language_info": {
   "codemirror_mode": {
    "name": "ipython",
    "version": 3
   },
   "file_extension": ".py",
   "mimetype": "text/x-python",
   "name": "python",
   "nbconvert_exporter": "python",
   "pygments_lexer": "ipython3",
   "version": "3.12.0"
  }
 },
 "nbformat": 4,
 "nbformat_minor": 5
}
